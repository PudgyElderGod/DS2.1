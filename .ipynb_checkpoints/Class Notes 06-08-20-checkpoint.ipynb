{
 "cells": [
  {
   "cell_type": "code",
   "execution_count": 2,
   "metadata": {},
   "outputs": [
    {
     "data": {
      "text/html": [
       "<div>\n",
       "<style scoped>\n",
       "    .dataframe tbody tr th:only-of-type {\n",
       "        vertical-align: middle;\n",
       "    }\n",
       "\n",
       "    .dataframe tbody tr th {\n",
       "        vertical-align: top;\n",
       "    }\n",
       "\n",
       "    .dataframe thead th {\n",
       "        text-align: right;\n",
       "    }\n",
       "</style>\n",
       "<table border=\"1\" class=\"dataframe\">\n",
       "  <thead>\n",
       "    <tr style=\"text-align: right;\">\n",
       "      <th></th>\n",
       "      <th>X1</th>\n",
       "      <th>X2</th>\n",
       "      <th>y</th>\n",
       "    </tr>\n",
       "  </thead>\n",
       "  <tbody>\n",
       "    <tr>\n",
       "      <th>0</th>\n",
       "      <td>2.947814</td>\n",
       "      <td>6.626878</td>\n",
       "      <td>1</td>\n",
       "    </tr>\n",
       "    <tr>\n",
       "      <th>1</th>\n",
       "      <td>2.530388</td>\n",
       "      <td>7.785050</td>\n",
       "      <td>1</td>\n",
       "    </tr>\n",
       "    <tr>\n",
       "      <th>2</th>\n",
       "      <td>3.566991</td>\n",
       "      <td>5.651046</td>\n",
       "      <td>1</td>\n",
       "    </tr>\n",
       "    <tr>\n",
       "      <th>3</th>\n",
       "      <td>3.156983</td>\n",
       "      <td>5.467077</td>\n",
       "      <td>1</td>\n",
       "    </tr>\n",
       "    <tr>\n",
       "      <th>4</th>\n",
       "      <td>2.582346</td>\n",
       "      <td>4.457777</td>\n",
       "      <td>-1</td>\n",
       "    </tr>\n",
       "  </tbody>\n",
       "</table>\n",
       "</div>"
      ],
      "text/plain": [
       "         X1        X2  y\n",
       "0  2.947814  6.626878  1\n",
       "1  2.530388  7.785050  1\n",
       "2  3.566991  5.651046  1\n",
       "3  3.156983  5.467077  1\n",
       "4  2.582346  4.457777 -1"
      ]
     },
     "execution_count": 2,
     "metadata": {},
     "output_type": "execute_result"
    }
   ],
   "source": [
    "import pandas as pd\n",
    "\n",
    "df=pd.read_csv('DS-2.1-Machine-Learning/Notebooks/Datasets/SVM_Dataset1.csv', index_col=0)\n",
    "df.head()"
   ]
  },
  {
   "cell_type": "markdown",
   "metadata": {},
   "source": [
    "# Brain Health\n",
    "\n",
    "Two features (X1 and X2 columns) are given that are releted to brain chemistry:\n",
    "\n",
    "- Serotonin\n",
    "\n",
    "- Dopamine\n",
    "\n",
    "The target (y column) shows brain health by indicating having (-1) or not having (1) depression.\n",
    "\n",
    "- 1 means subject does not have depression\n",
    "\n",
    "- 1 means subject does have depression"
   ]
  },
  {
   "cell_type": "code",
   "execution_count": 3,
   "metadata": {},
   "outputs": [
    {
     "name": "stdout",
     "output_type": "stream",
     "text": [
      "         X1        X2  y\n",
      "0  2.947814  6.626878  1\n",
      "1  2.530388  7.785050  1\n",
      "2  3.566991  5.651046  1\n",
      "3  3.156983  5.467077  1\n",
      "4  2.582346  4.457777 -1\n",
      "5  2.155826  6.222343 -1\n",
      "6  3.273418  3.520687 -1\n"
     ]
    }
   ],
   "source": [
    "print(df)"
   ]
  },
  {
   "cell_type": "code",
   "execution_count": 4,
   "metadata": {},
   "outputs": [
    {
     "name": "stdout",
     "output_type": "stream",
     "text": [
      "[[2.947814 6.626878]\n",
      " [2.530388 7.78505 ]\n",
      " [3.566991 5.651046]\n",
      " [3.156983 5.467077]\n",
      " [2.582346 4.457777]\n",
      " [2.155826 6.222343]\n",
      " [3.273418 3.520687]]\n"
     ]
    }
   ],
   "source": [
    "import numpy as np\n",
    "X1=df['X1']\n",
    "X2=df['X2']\n",
    "X_train=np.array(list(zip(X1,X2)))\n",
    "\n",
    "print(X_train)"
   ]
  },
  {
   "cell_type": "code",
   "execution_count": 5,
   "metadata": {},
   "outputs": [
    {
     "name": "stdout",
     "output_type": "stream",
     "text": [
      "[ 1  1  1  1 -1 -1 -1]\n"
     ]
    }
   ],
   "source": [
    "y_train=df['y'].values\n",
    "\n",
    "print(y_train)"
   ]
  },
  {
   "cell_type": "markdown",
   "metadata": {},
   "source": [
    "#### Activity: Assign color and label to each target class\n",
    "#####  Complete this activity groups of 3:\n",
    "\n",
    "Hint: To do this, build two lists whose color/label values match with the values of the y_train array at the corresponding indices."
   ]
  },
  {
   "cell_type": "code",
   "execution_count": 6,
   "metadata": {},
   "outputs": [
    {
     "name": "stdout",
     "output_type": "stream",
     "text": [
      "['b', 'b', 'b', 'b', 'r', 'r', 'r']\n"
     ]
    }
   ],
   "source": [
    "color_ls = []\n",
    "# if y == 1, then the value at the same index in color_ls will be 'b'\n",
    "# otherwise, it will be 'r'\n",
    "for k in y_train:\n",
    "    if k == 1:\n",
    "        color_ls.append('b')\n",
    "    else:\n",
    "        color_ls.append('r')\n",
    "\n",
    "print(color_ls)"
   ]
  },
  {
   "cell_type": "code",
   "execution_count": 7,
   "metadata": {},
   "outputs": [
    {
     "name": "stdout",
     "output_type": "stream",
     "text": [
      "['H', 'H', 'H', 'H', 'NH', 'NH', 'NH']\n"
     ]
    }
   ],
   "source": [
    "label = []\n",
    "# if y == 1, then the value at the same index in label will be 'H'\n",
    "# otherwise, it will be 'NH'\n",
    "for k in y_train:\n",
    "    if k == 1:\n",
    "        label.append('H')\n",
    "    else:\n",
    "        label.append('NH')\n",
    "\n",
    "print(label)"
   ]
  },
  {
   "cell_type": "markdown",
   "metadata": {},
   "source": [
    "#### Activity: Create a scatter plot of data with labels\n",
    "##### Complete this activity groups of 3:"
   ]
  },
  {
   "cell_type": "code",
   "execution_count": 9,
   "metadata": {},
   "outputs": [
    {
     "data": {
      "image/png": "[encoded data removed]",
      "text/plain": [
       "<Figure size 432x288 with 1 Axes>"
      ]
     },
     "metadata": {
      "needs_background": "light"
     },
     "output_type": "display_data"
    }
   ],
   "source": [
    "import matplotlib.pyplot as plt\n",
    "\n",
    "# k is our index, (i,j) are our Serotonin and Dopamine pairings.\n",
    "# For example, here are the values on the first iteration of the loop:\n",
    "# k == 0, (i, j) == (2.947814, 6.626878)\n",
    "for k, (i,j) in enumerate(X_train):\n",
    "    # add the datapoint to a scatter plot,\n",
    "    # using the k'th color in colors_ls\n",
    "    plt.scatter(i, j, c = color_ls[k])\n",
    "    # 0.02 to the right and above the point,\n",
    "    # add the k'th text label in label\n",
    "    plt.text(i+0.02, j+0.02, label[k])"
   ]
  },
  {
   "cell_type": "code",
   "execution_count": null,
   "metadata": {},
   "outputs": [],
   "source": []
  }
 ],
 "metadata": {
  "kernelspec": {
   "display_name": "Python 3",
   "language": "python",
   "name": "python3"
  },
  "language_info": {
   "codemirror_mode": {
    "name": "ipython",
    "version": 3
   },
   "file_extension": ".py",
   "mimetype": "text/x-python",
   "name": "python",
   "nbconvert_exporter": "python",
   "pygments_lexer": "ipython3",
   "version": "3.7.4"
  }
 },
 "nbformat": 4,
 "nbformat_minor": 4
}
