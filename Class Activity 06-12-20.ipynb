{
 "cells": [
  {
   "cell_type": "markdown",
   "metadata": {},
   "source": [
    "# Today's Assignment\n",
    "------------------\n",
    "1- Create the data samples from below\n",
    "\n",
    "2- train a svm with and without class_weight\n",
    "\n",
    "- clf = svm.SVC(kernel='linear', C=1.0) -> clf.fit(X, y)\n",
    "- wclf = svm.SVC(kernel='linear', class_weight={1: 10}) -> wclf.fit(X, y)\n",
    "3-1 Count how many 0 in y is 1 in y_pred?\n",
    "\n",
    "3-2 Count how many 1 in y is 0 in y_pred?\n",
    "\n",
    "3-3 Add above number divide over len(y) "
   ]
  },
  {
   "cell_type": "code",
   "execution_count": null,
   "metadata": {},
   "outputs": [],
   "source": []
  },
  {
   "cell_type": "code",
   "execution_count": 1,
   "metadata": {},
   "outputs": [
    {
     "ename": "SyntaxError",
     "evalue": "invalid syntax (<ipython-input-1-8830c3c8e026>, line 1)",
     "output_type": "error",
     "traceback": [
      "\u001b[0;36m  File \u001b[0;32m\"<ipython-input-1-8830c3c8e026>\"\u001b[0;36m, line \u001b[0;32m1\u001b[0m\n\u001b[0;31m    clf = svm.SVC(kernel='linear', C=1.0) -> clf.fit(X, y)\u001b[0m\n\u001b[0m                                           ^\u001b[0m\n\u001b[0;31mSyntaxError\u001b[0m\u001b[0;31m:\u001b[0m invalid syntax\n"
     ]
    }
   ],
   "source": [
    "clf = svm.SVC(kernel='linear', C=1.0) -> clf.fit(X, y)\n",
    "wclf = svm.SVC(kernel='linear', class_weight={1: 10}) -> wclf.fit(X, y)"
   ]
  },
  {
   "cell_type": "code",
   "execution_count": null,
   "metadata": {},
   "outputs": [],
   "source": []
  }
 ],
 "metadata": {
  "kernelspec": {
   "display_name": "Python 3",
   "language": "python",
   "name": "python3"
  },
  "language_info": {
   "codemirror_mode": {
    "name": "ipython",
    "version": 3
   },
   "file_extension": ".py",
   "mimetype": "text/x-python",
   "name": "python",
   "nbconvert_exporter": "python",
   "pygments_lexer": "ipython3",
   "version": "3.7.4"
  }
 },
 "nbformat": 4,
 "nbformat_minor": 4
}
