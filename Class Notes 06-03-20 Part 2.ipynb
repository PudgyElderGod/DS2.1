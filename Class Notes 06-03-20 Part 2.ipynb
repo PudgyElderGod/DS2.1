{
 "cells": [
  {
   "cell_type": "code",
   "execution_count": 2,
   "metadata": {},
   "outputs": [
    {
     "name": "stdout",
     "output_type": "stream",
     "text": [
      "Generating a linear regression on the top 150 companies (first one)\n",
      "Printing the coefficient and y intercept of our first 150 sales\n",
      "[ 0.04700012  0.17993257 -0.00140273]\n",
      "3.029766796293691\n",
      "Predicting the sales of the bottom 50 companies (last ones)\n",
      "[18.67186188 10.15990172 16.48950045 18.17132726 15.63964047  5.30168953\n",
      " 15.19930681 10.27021058 10.15577653 12.48190724 14.35100299 13.43010832\n",
      " 15.10545883 17.32542469 11.17561481 14.54411372 10.60623457 13.6578278\n",
      " 17.31920373 18.29020846  7.44118029 14.4553876   7.54376735 12.20415315\n",
      " 14.07598825 24.7841683  20.11008458 12.38328494 16.41529992 12.58762415\n",
      " 10.84616747 14.23249384  6.65512798 24.18338541 18.74887883 20.75225663\n",
      "  9.92682913 17.15002463 18.96767352  6.05302918 12.27336433  8.51313117\n",
      "  4.53156602 18.42150484 16.46286778  5.47156415  8.32748549 13.01318332\n",
      " 23.82330766 15.4737108 ]\n",
      "0.8963519785440216\n",
      "0.8963519785440216\n"
     ]
    }
   ],
   "source": [
    "import pandas as pd\n",
    "from sklearn.linear_model import LinearRegression\n",
    "from sklearn.metrics import r2_score\n",
    "\n",
    "\n",
    "df = pd.read_csv('DS-2.1-Machine-Learning/Notebooks/Datasets/Advertising.csv')\n",
    "feature_cols = [\"TV\", \"radio\", \"newspaper\"]\n",
    "\n",
    "# Use the top 150 companies to train the Linear Regression Model\n",
    "X_train = df[feature_cols][:150]\n",
    "Y_train = df.sales[:150]\n",
    "\n",
    "# Instansiate the model (Linear Regression) and train it\n",
    "print(\"Generating a linear regression on the top 150 companies (first one)\")\n",
    "sales_reg = LinearRegression()\n",
    "sales_reg.fit(X_train, Y_train)\n",
    "\n",
    "print(\"Printing the coefficient and y intercept of our first 150 sales\")\n",
    "print(sales_reg.coef_)\n",
    "print(sales_reg.intercept_)\n",
    "\n",
    "# Predict the botton 50 companies' sales\n",
    "X_test = df[feature_cols][-50:]\n",
    "Y_test = df.sales[-50:]\n",
    "print(\"Predicting the sales of the bottom 50 companies (last ones)\")\n",
    "print(sales_reg.predict(X_test))\n",
    "\n",
    "print(sales_reg.score(X_test, Y_test))\n",
    "print(r2_score(Y_test, sales_reg.predict(X_test)))"
   ]
  },
  {
   "cell_type": "code",
   "execution_count": 4,
   "metadata": {},
   "outputs": [
    {
     "data": {
      "text/plain": [
       "array([25.69498118])"
      ]
     },
     "execution_count": 4,
     "metadata": {},
     "output_type": "execute_result"
    }
   ],
   "source": [
    "sales_reg.predict([[100, 100, 20]])"
   ]
  },
  {
   "cell_type": "code",
   "execution_count": null,
   "metadata": {},
   "outputs": [],
   "source": [
    "print(reg.score(X_test, Y_test))\n",
    "print(r2_score(Y_test, reg.predict(X_test)))"
   ]
  },
  {
   "cell_type": "code",
   "execution_count": 8,
   "metadata": {},
   "outputs": [],
   "source": [
    "import numpy as np\n",
    "\n",
    "# Distance run in miles\n",
    "X = np.array([3.3,4.4,5.5,6.71,6.93,4.168,9.779,6.182,7.59,2.167,\n",
    "                         7.042,10.791,5.313,7.997,5.654,9.27,3.1])\n",
    "\n",
    "# Amount of water consumed in liters\n",
    "Y = np.array([1.7,2.76,2.09,3.19,1.694,1.573,3.366,2.596,2.53,1.221,\n",
    "                         2.827,3.465,1.65,2.904,2.42,2.94,1.3])"
   ]
  },
  {
   "cell_type": "code",
   "execution_count": 9,
   "metadata": {},
   "outputs": [
    {
     "data": {
      "text/plain": [
       "Text(0, 0.5, 'Water Drinks (Litre)')"
      ]
     },
     "execution_count": 9,
     "metadata": {},
     "output_type": "execute_result"
    },
    {
     "data": {
      "image/png": "[encoded data removed]",
      "text/plain": [
       "<Figure size 432x288 with 1 Axes>"
      ]
     },
     "metadata": {
      "needs_background": "light"
     },
     "output_type": "display_data"
    }
   ],
   "source": [
    "import matplotlib.pyplot as plt\n",
    "\n",
    "plt.scatter(X, Y)\n",
    "plt.xlabel('Running Distance (Mile)')\n",
    "plt.ylabel('Water Drinks (Litre)')"
   ]
  },
  {
   "cell_type": "code",
   "execution_count": 11,
   "metadata": {},
   "outputs": [
    {
     "name": "stdout",
     "output_type": "stream",
     "text": [
      "0.15385767404191164\n"
     ]
    },
    {
     "data": {
      "image/png": "[encoded data removed]",
      "text/plain": [
       "<Figure size 432x288 with 1 Axes>"
      ]
     },
     "metadata": {
      "needs_background": "light"
     },
     "output_type": "display_data"
    }
   ],
   "source": [
    "y_predicted = list(map(lambda x: 0.25163494*x + 0.79880123, X))\n",
    "plt.scatter(X, Y)\n",
    "plt.plot(X, y_predicted ,'r')\n",
    "error = sum([ (i-j)**2 for i, j in zip(Y, y_predicted) ]) / len(Y)\n",
    "print(error)"
   ]
  },
  {
   "cell_type": "code",
   "execution_count": 16,
   "metadata": {},
   "outputs": [
    {
     "data": {
      "text/plain": [
       "array([25.69498118])"
      ]
     },
     "execution_count": 16,
     "metadata": {},
     "output_type": "execute_result"
    }
   ],
   "source": [
    "sales_reg.predict([[100, 100, 20]])"
   ]
  },
  {
   "cell_type": "code",
   "execution_count": 17,
   "metadata": {},
   "outputs": [
    {
     "name": "stdout",
     "output_type": "stream",
     "text": [
      "0.15385767404191164\n"
     ]
    },
    {
     "data": {
      "image/png": "[encoded data removed]",
      "text/plain": [
       "<Figure size 432x288 with 1 Axes>"
      ]
     },
     "metadata": {
      "needs_background": "light"
     },
     "output_type": "display_data"
    }
   ],
   "source": [
    "y_predicted = list(map(lambda x: 0.25163494*x + 0.79880123, X))\n",
    "plt.scatter(X, Y)\n",
    "plt.plot(X, y_predicted ,'r')\n",
    "error = sum([ (i-j)**2 for i, j in zip(Y, y_predicted) ]) / len(Y)\n",
    "print(error)"
   ]
  },
  {
   "cell_type": "code",
   "execution_count": 1,
   "metadata": {},
   "outputs": [
    {
     "ename": "NameError",
     "evalue": "name 'y' is not defined",
     "output_type": "error",
     "traceback": [
      "\u001b[0;31m---------------------------------------------------------------------------\u001b[0m",
      "\u001b[0;31mNameError\u001b[0m                                 Traceback (most recent call last)",
      "\u001b[0;32m<ipython-input-1-5b79ec59e3f2>\u001b[0m in \u001b[0;36m<module>\u001b[0;34m\u001b[0m\n\u001b[1;32m      8\u001b[0m     \u001b[0;32mreturn\u001b[0m \u001b[0mmse\u001b[0m\u001b[0;34m\u001b[0m\u001b[0;34m\u001b[0m\u001b[0m\n\u001b[1;32m      9\u001b[0m \u001b[0;34m\u001b[0m\u001b[0m\n\u001b[0;32m---> 10\u001b[0;31m \u001b[0mprint\u001b[0m\u001b[0;34m(\u001b[0m\u001b[0mmin_sq_error\u001b[0m\u001b[0;34m(\u001b[0m\u001b[0my\u001b[0m\u001b[0;34m,\u001b[0m \u001b[0mx\u001b[0m\u001b[0;34m,\u001b[0m \u001b[0;36m0.7\u001b[0m\u001b[0;34m,\u001b[0m \u001b[0;36m0.3\u001b[0m\u001b[0;34m)\u001b[0m\u001b[0;34m)\u001b[0m\u001b[0;34m\u001b[0m\u001b[0;34m\u001b[0m\u001b[0m\n\u001b[0m\u001b[1;32m     11\u001b[0m \u001b[0mprint\u001b[0m\u001b[0;34m(\u001b[0m\u001b[0mmin_sq_error\u001b[0m\u001b[0;34m(\u001b[0m\u001b[0my\u001b[0m\u001b[0;34m,\u001b[0m \u001b[0mx\u001b[0m\u001b[0;34m,\u001b[0m \u001b[0;36m0.25163494\u001b[0m\u001b[0;34m,\u001b[0m \u001b[0;36m0.79880123\u001b[0m\u001b[0;34m)\u001b[0m\u001b[0;34m)\u001b[0m\u001b[0;34m\u001b[0m\u001b[0;34m\u001b[0m\u001b[0m\n",
      "\u001b[0;31mNameError\u001b[0m: name 'y' is not defined"
     ]
    }
   ],
   "source": [
    "from sklearn.metrics import mean_squared_error\n",
    "\n",
    "def min_sq_error(y, x, w1, w0):\n",
    "    y_pred = [(w1*i+w0) for i in x]\n",
    "    sum_squared_error = sum([((i-j)**2) for i,j in zip(y_pred,y)])\n",
    "    N = len(y)\n",
    "    mse = sum_squared_error/N\n",
    "    return mse\n",
    "\n",
    "print(min_sq_error(y, x, 0.7, 0.3))\n",
    "print(min_sq_error(y, x, 0.25163494, 0.79880123))"
   ]
  },
  {
   "cell_type": "code",
   "execution_count": null,
   "metadata": {},
   "outputs": [],
   "source": []
  }
 ],
 "metadata": {
  "kernelspec": {
   "display_name": "Python 3",
   "language": "python",
   "name": "python3"
  },
  "language_info": {
   "codemirror_mode": {
    "name": "ipython",
    "version": 3
   },
   "file_extension": ".py",
   "mimetype": "text/x-python",
   "name": "python",
   "nbconvert_exporter": "python",
   "pygments_lexer": "ipython3",
   "version": "3.7.4"
  }
 },
 "nbformat": 4,
 "nbformat_minor": 4
}
